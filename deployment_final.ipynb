{
 "cells": [
  {
   "cell_type": "code",
   "execution_count": 1,
   "id": "e6395e74",
   "metadata": {},
   "outputs": [
    {
     "name": "stdout",
     "output_type": "stream",
     "text": [
      "Requirement already satisfied: streamlit in /Users/rushankpotadar/opt/anaconda3/lib/python3.9/site-packages (1.41.1)\n",
      "Requirement already satisfied: altair<6,>=4.0 in /Users/rushankpotadar/opt/anaconda3/lib/python3.9/site-packages (from streamlit) (5.5.0)\n",
      "Requirement already satisfied: blinker<2,>=1.0.0 in /Users/rushankpotadar/opt/anaconda3/lib/python3.9/site-packages (from streamlit) (1.9.0)\n",
      "Requirement already satisfied: cachetools<6,>=4.0 in /Users/rushankpotadar/opt/anaconda3/lib/python3.9/site-packages (from streamlit) (5.5.0)\n",
      "Requirement already satisfied: click<9,>=7.0 in /Users/rushankpotadar/opt/anaconda3/lib/python3.9/site-packages (from streamlit) (8.1.8)\n",
      "Requirement already satisfied: numpy<3,>=1.23 in /Users/rushankpotadar/opt/anaconda3/lib/python3.9/site-packages (from streamlit) (2.0.2)\n",
      "Requirement already satisfied: packaging<25,>=20 in /Users/rushankpotadar/opt/anaconda3/lib/python3.9/site-packages (from streamlit) (24.2)\n",
      "Requirement already satisfied: pandas<3,>=1.4.0 in /Users/rushankpotadar/opt/anaconda3/lib/python3.9/site-packages (from streamlit) (2.2.3)\n",
      "Requirement already satisfied: pillow<12,>=7.1.0 in /Users/rushankpotadar/opt/anaconda3/lib/python3.9/site-packages (from streamlit) (9.2.0)\n",
      "Requirement already satisfied: protobuf<6,>=3.20 in /Users/rushankpotadar/opt/anaconda3/lib/python3.9/site-packages (from streamlit) (5.29.3)\n",
      "Requirement already satisfied: pyarrow>=7.0 in /Users/rushankpotadar/opt/anaconda3/lib/python3.9/site-packages (from streamlit) (18.1.0)\n",
      "Requirement already satisfied: requests<3,>=2.27 in /Users/rushankpotadar/opt/anaconda3/lib/python3.9/site-packages (from streamlit) (2.28.1)\n",
      "Requirement already satisfied: rich<14,>=10.14.0 in /Users/rushankpotadar/opt/anaconda3/lib/python3.9/site-packages (from streamlit) (13.9.4)\n",
      "Requirement already satisfied: tenacity<10,>=8.1.0 in /Users/rushankpotadar/opt/anaconda3/lib/python3.9/site-packages (from streamlit) (9.0.0)\n",
      "Requirement already satisfied: toml<2,>=0.10.1 in /Users/rushankpotadar/opt/anaconda3/lib/python3.9/site-packages (from streamlit) (0.10.2)\n",
      "Requirement already satisfied: typing-extensions<5,>=4.3.0 in /Users/rushankpotadar/opt/anaconda3/lib/python3.9/site-packages (from streamlit) (4.12.2)\n",
      "Requirement already satisfied: gitpython!=3.1.19,<4,>=3.0.7 in /Users/rushankpotadar/opt/anaconda3/lib/python3.9/site-packages (from streamlit) (3.1.44)\n",
      "Requirement already satisfied: pydeck<1,>=0.8.0b4 in /Users/rushankpotadar/opt/anaconda3/lib/python3.9/site-packages (from streamlit) (0.9.1)\n",
      "Requirement already satisfied: tornado<7,>=6.0.3 in /Users/rushankpotadar/opt/anaconda3/lib/python3.9/site-packages (from streamlit) (6.1)\n",
      "Requirement already satisfied: jinja2 in /Users/rushankpotadar/opt/anaconda3/lib/python3.9/site-packages (from altair<6,>=4.0->streamlit) (2.11.3)\n",
      "Requirement already satisfied: jsonschema>=3.0 in /Users/rushankpotadar/opt/anaconda3/lib/python3.9/site-packages (from altair<6,>=4.0->streamlit) (4.16.0)\n",
      "Requirement already satisfied: narwhals>=1.14.2 in /Users/rushankpotadar/opt/anaconda3/lib/python3.9/site-packages (from altair<6,>=4.0->streamlit) (1.21.1)\n",
      "Requirement already satisfied: gitdb<5,>=4.0.1 in /Users/rushankpotadar/opt/anaconda3/lib/python3.9/site-packages (from gitpython!=3.1.19,<4,>=3.0.7->streamlit) (4.0.12)\n",
      "Requirement already satisfied: python-dateutil>=2.8.2 in /Users/rushankpotadar/opt/anaconda3/lib/python3.9/site-packages (from pandas<3,>=1.4.0->streamlit) (2.9.0.post0)\n",
      "Requirement already satisfied: pytz>=2020.1 in /Users/rushankpotadar/opt/anaconda3/lib/python3.9/site-packages (from pandas<3,>=1.4.0->streamlit) (2025.1)\n",
      "Requirement already satisfied: tzdata>=2022.7 in /Users/rushankpotadar/opt/anaconda3/lib/python3.9/site-packages (from pandas<3,>=1.4.0->streamlit) (2025.1)\n",
      "Requirement already satisfied: charset-normalizer<3,>=2 in /Users/rushankpotadar/opt/anaconda3/lib/python3.9/site-packages (from requests<3,>=2.27->streamlit) (2.0.4)\n",
      "Requirement already satisfied: idna<4,>=2.5 in /Users/rushankpotadar/opt/anaconda3/lib/python3.9/site-packages (from requests<3,>=2.27->streamlit) (3.3)\n",
      "Requirement already satisfied: urllib3<1.27,>=1.21.1 in /Users/rushankpotadar/opt/anaconda3/lib/python3.9/site-packages (from requests<3,>=2.27->streamlit) (1.26.11)\n",
      "Requirement already satisfied: certifi>=2017.4.17 in /Users/rushankpotadar/opt/anaconda3/lib/python3.9/site-packages (from requests<3,>=2.27->streamlit) (2022.9.24)\n",
      "Requirement already satisfied: markdown-it-py>=2.2.0 in /Users/rushankpotadar/opt/anaconda3/lib/python3.9/site-packages (from rich<14,>=10.14.0->streamlit) (3.0.0)\n",
      "Requirement already satisfied: pygments<3.0.0,>=2.13.0 in /Users/rushankpotadar/opt/anaconda3/lib/python3.9/site-packages (from rich<14,>=10.14.0->streamlit) (2.19.1)\n",
      "Requirement already satisfied: smmap<6,>=3.0.1 in /Users/rushankpotadar/opt/anaconda3/lib/python3.9/site-packages (from gitdb<5,>=4.0.1->gitpython!=3.1.19,<4,>=3.0.7->streamlit) (5.0.2)\n",
      "Requirement already satisfied: MarkupSafe>=0.23 in /Users/rushankpotadar/opt/anaconda3/lib/python3.9/site-packages (from jinja2->altair<6,>=4.0->streamlit) (2.0.1)\n",
      "Requirement already satisfied: attrs>=17.4.0 in /Users/rushankpotadar/opt/anaconda3/lib/python3.9/site-packages (from jsonschema>=3.0->altair<6,>=4.0->streamlit) (21.4.0)\n",
      "Requirement already satisfied: pyrsistent!=0.17.0,!=0.17.1,!=0.17.2,>=0.14.0 in /Users/rushankpotadar/opt/anaconda3/lib/python3.9/site-packages (from jsonschema>=3.0->altair<6,>=4.0->streamlit) (0.18.0)\n",
      "Requirement already satisfied: mdurl~=0.1 in /Users/rushankpotadar/opt/anaconda3/lib/python3.9/site-packages (from markdown-it-py>=2.2.0->rich<14,>=10.14.0->streamlit) (0.1.2)\n",
      "Requirement already satisfied: six>=1.5 in /Users/rushankpotadar/opt/anaconda3/lib/python3.9/site-packages (from python-dateutil>=2.8.2->pandas<3,>=1.4.0->streamlit) (1.17.0)\n",
      "\n",
      "\u001b[1m[\u001b[0m\u001b[34;49mnotice\u001b[0m\u001b[1;39;49m]\u001b[0m\u001b[39;49m A new release of pip is available: \u001b[0m\u001b[31;49m25.0\u001b[0m\u001b[39;49m -> \u001b[0m\u001b[32;49m25.1.1\u001b[0m\n",
      "\u001b[1m[\u001b[0m\u001b[34;49mnotice\u001b[0m\u001b[1;39;49m]\u001b[0m\u001b[39;49m To update, run: \u001b[0m\u001b[32;49mpip install --upgrade pip\u001b[0m\n"
     ]
    }
   ],
   "source": [
    "!pip install streamlit"
   ]
  },
  {
   "cell_type": "code",
   "execution_count": null,
   "id": "9b1fdc6f",
   "metadata": {},
   "outputs": [
    {
     "name": "stdout",
     "output_type": "stream",
     "text": [
      "Overwriting app.py\n"
     ]
    }
   ],
   "source": [
    "%%writefile app.py\n",
    "\n",
    "import streamlit as st\n",
    "import pandas as pd\n",
    "import joblib\n",
    "from datetime import datetime, timedelta\n",
    "import matplotlib.pyplot as plt\n",
    "\n",
    "# Load dataset to find the end date\n",
    "data = pd.read_excel(\"PJMW_MW_Hourly.xlsx\")\n",
    "data['Datetime'] = pd.to_datetime(data['Datetime'])\n",
    "last_date = data['Datetime'].max()\n",
    "\n",
    "# Load trained model\n",
    "model = joblib.load(\"random_forest_model.pkl\")\n",
    "expected_features = list(model.feature_names_in_)\n",
    "\n",
    "# Streamlit UI\n",
    "st.title(\"🔌 PJM Energy Forecasting\")\n",
    "st.markdown(\"Forecast energy consumption for the next 30 days using a Random Forest model.\")\n",
    "\n",
    "# Choose number of days to forecast\n",
    "n_days = st.slider(\"Select number of days to forecast\", min_value=1, max_value=30, value=30)\n",
    "\n",
    "# Generate future dates starting from last date + 1\n",
    "start_date = last_date + timedelta(days=1)\n",
    "future_dates = [start_date + timedelta(days=i) for i in range(n_days)]\n",
    "\n",
    "# Build features for prediction\n",
    "features = []\n",
    "for dt in future_dates:\n",
    "    hour = 12\n",
    "    weekday = dt.weekday()\n",
    "    season = 0 if dt.month in [12, 1, 2] else 1 if dt.month in [3, 4, 5] else 2 if dt.month in [6, 7, 8] else 3\n",
    "    is_weekend = 1 if weekday >= 5 else 0\n",
    "    is_holiday = 0\n",
    "\n",
    "    row = {\n",
    "        'hour': hour,\n",
    "        'day': dt.day,\n",
    "        'month': dt.month,\n",
    "        'year': dt.year,\n",
    "        'weekday': weekday,\n",
    "        'season': season,\n",
    "        'is_weekend': is_weekend,\n",
    "        'is_holiday': is_holiday\n",
    "    }\n",
    "    features.append(row)\n",
    "\n",
    "# Predict\n",
    "future_df = pd.DataFrame(features)\n",
    "future_df['Predicted'] = model.predict(future_df[expected_features])\n",
    "future_df['Date'] = [dt.date() for dt in future_dates]\n",
    "\n",
    "# Plot\n",
    "fig, ax = plt.subplots()\n",
    "ax.plot(future_df['Date'], future_df['Predicted'], marker='o', color='orange')\n",
    "ax.set_title(f\"Forecasted Power Demand (Next {n_days} Days)\")\n",
    "ax.set_xlabel(\"Date\")\n",
    "ax.set_ylabel(\"Predicted Energy (MW)\")\n",
    "plt.xticks(rotation=45)\n",
    "st.pyplot(fig)\n",
    "\n",
    "# Table\n",
    "st.markdown(\"### 📊 Tabular Forecast\")\n",
    "st.dataframe(future_df[['Date', 'Predicted']])\n",
    "\n",
    "# Download\n",
    "csv = future_df[['Date', 'Predicted']].to_csv(index=False).encode('utf-8')\n",
    "st.download_button(\"⬇️ Download Forecast as CSV\", csv, \"forecast.csv\", \"text/csv\")\n",
    "\n",
    "# Suggestions\n",
    "st.markdown(\"### 🔧 Suggestions for Future Improvements\")\n",
    "st.markdown(\"\"\"\n",
    "- Dynamically adjust hour/day granularity.\n",
    "- Add holiday detection from a calendar library.\n",
    "- Visualize uncertainty bounds.\n",
    "- Incorporate weather data as features.\n",
    "\"\"\")\n",
    "\n"
   ]
  },
  {
   "cell_type": "code",
   "execution_count": 3,
   "id": "deb1e984",
   "metadata": {},
   "outputs": [
    {
     "name": "stdout",
     "output_type": "stream",
     "text": [
      "103.106.103.23\n"
     ]
    }
   ],
   "source": [
    "!wget -q -O - ipv4.canhazip.com"
   ]
  },
  {
   "cell_type": "code",
   "execution_count": 4,
   "id": "9399fc4e",
   "metadata": {},
   "outputs": [
    {
     "name": "stdout",
     "output_type": "stream",
     "text": [
      "\u001b[0m\n",
      "\u001b[34m\u001b[1m  You can now view your Streamlit app in your browser.\u001b[0m\n",
      "\u001b[0m\n",
      "\u001b[34m  Local URL: \u001b[0m\u001b[1mhttp://localhost:8501\u001b[0m\n",
      "\u001b[34m  Network URL: \u001b[0m\u001b[1mhttp://192.168.1.104:8501\u001b[0m\n",
      "\u001b[0m\n",
      "\u001b[1G\u001b[0K⠙\u001b[1G\u001b[0K⠹\u001b[1G\u001b[0K⠸\u001b[1G\u001b[0K⠼\u001b[1G\u001b[0K⠴\u001b[1G\u001b[0K\u001b[1G\u001b[0JNeed to install the following packages:\n",
      "localtunnel@2.0.2\n",
      "Ok to proceed? (y) \u001b[20G^C\n"
     ]
    }
   ],
   "source": [
    "!streamlit run app.py & npx localtunnel --port 8501"
   ]
  }
 ],
 "metadata": {
  "kernelspec": {
   "display_name": "Python 3",
   "language": "python",
   "name": "python3"
  },
  "language_info": {
   "codemirror_mode": {
    "name": "ipython",
    "version": 3
   },
   "file_extension": ".py",
   "mimetype": "text/x-python",
   "name": "python",
   "nbconvert_exporter": "python",
   "pygments_lexer": "ipython3",
   "version": "3.9.13"
  }
 },
 "nbformat": 4,
 "nbformat_minor": 5
}
